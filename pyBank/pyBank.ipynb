{
 "cells": [
  {
   "cell_type": "code",
   "execution_count": 227,
   "id": "3fe24801-6f15-4b5e-a8a2-0bc1829d3635",
   "metadata": {},
   "outputs": [],
   "source": [
    "import os\n",
    "import pandas as pd"
   ]
  },
  {
   "cell_type": "code",
   "execution_count": 228,
   "id": "b31bc645-6a5c-4bfa-80a9-3e59f240d14e",
   "metadata": {},
   "outputs": [
    {
     "data": {
      "text/html": [
       "<div>\n",
       "<style scoped>\n",
       "    .dataframe tbody tr th:only-of-type {\n",
       "        vertical-align: middle;\n",
       "    }\n",
       "\n",
       "    .dataframe tbody tr th {\n",
       "        vertical-align: top;\n",
       "    }\n",
       "\n",
       "    .dataframe thead th {\n",
       "        text-align: right;\n",
       "    }\n",
       "</style>\n",
       "<table border=\"1\" class=\"dataframe\">\n",
       "  <thead>\n",
       "    <tr style=\"text-align: right;\">\n",
       "      <th></th>\n",
       "      <th>Date</th>\n",
       "      <th>Profit/Losses</th>\n",
       "    </tr>\n",
       "  </thead>\n",
       "  <tbody>\n",
       "    <tr>\n",
       "      <th>0</th>\n",
       "      <td>Jan-2010</td>\n",
       "      <td>867884</td>\n",
       "    </tr>\n",
       "    <tr>\n",
       "      <th>1</th>\n",
       "      <td>Feb-2010</td>\n",
       "      <td>984655</td>\n",
       "    </tr>\n",
       "    <tr>\n",
       "      <th>2</th>\n",
       "      <td>Mar-2010</td>\n",
       "      <td>322013</td>\n",
       "    </tr>\n",
       "    <tr>\n",
       "      <th>3</th>\n",
       "      <td>Apr-2010</td>\n",
       "      <td>-69417</td>\n",
       "    </tr>\n",
       "    <tr>\n",
       "      <th>4</th>\n",
       "      <td>May-2010</td>\n",
       "      <td>310503</td>\n",
       "    </tr>\n",
       "  </tbody>\n",
       "</table>\n",
       "</div>"
      ],
      "text/plain": [
       "       Date  Profit/Losses\n",
       "0  Jan-2010         867884\n",
       "1  Feb-2010         984655\n",
       "2  Mar-2010         322013\n",
       "3  Apr-2010         -69417\n",
       "4  May-2010         310503"
      ]
     },
     "execution_count": 228,
     "metadata": {},
     "output_type": "execute_result"
    }
   ],
   "source": [
    "df = pd.read_csv(\"Resources/budget_data.csv\")\n",
    "df.head()"
   ]
  },
  {
   "cell_type": "code",
   "execution_count": 229,
   "id": "f7711330-96b8-4ded-b0a0-06b0d2fadf64",
   "metadata": {},
   "outputs": [
    {
     "data": {
      "text/plain": [
       "86"
      ]
     },
     "execution_count": 229,
     "metadata": {},
     "output_type": "execute_result"
    }
   ],
   "source": [
    "#total months\n",
    "T_month=len(df)\n",
    "T_month"
   ]
  },
  {
   "cell_type": "code",
   "execution_count": 230,
   "id": "206cd916-d2a6-4e19-9f2d-8345a6bdf242",
   "metadata": {},
   "outputs": [
    {
     "data": {
      "text/plain": [
       "38382578"
      ]
     },
     "execution_count": 230,
     "metadata": {},
     "output_type": "execute_result"
    }
   ],
   "source": [
    "#total amount of profit/losses over entire period\n",
    "tpl =df[\"Profit/Losses\"].sum()\n",
    "tpl"
   ]
  },
  {
   "cell_type": "code",
   "execution_count": 231,
   "id": "edbe08bb-5801-48e7-a456-a2a1a2a137b2",
   "metadata": {},
   "outputs": [
    {
     "data": {
      "text/plain": [
       "-2437.0437430702223"
      ]
     },
     "execution_count": 231,
     "metadata": {},
     "output_type": "execute_result"
    }
   ],
   "source": [
    "#average of changes\n",
    "avgchg=df[\"Profit/Losses\"].pct_change()\n",
    "avgc=avgchg.sum().mean()*100\n",
    "avgc"
   ]
  },
  {
   "cell_type": "code",
   "execution_count": 248,
   "id": "cb4060be-b34a-4042-8eac-a7ebea6e20bd",
   "metadata": {},
   "outputs": [
    {
     "name": "stdout",
     "output_type": "stream",
     "text": [
      "Financial Analysis\n",
      "----------------------------------\n",
      "\n",
      "Your profit is: $38382578\n",
      "Total Months 86\n",
      "Average  Change: $-2437.0437430702223\n",
      "Greatest Increase in Profits: ($532869)\n",
      "Greatest Decrease in Profits: ($532869)\n"
     ]
    }
   ],
   "source": [
    "pl=list(df[\"Profit/Losses\"])\n",
    "t=[]\n",
    "c=0\n",
    "\n",
    "for i in range(len(df)-1):\n",
    "    chg_y=pl[i]\n",
    "    chg_x=pl[i+1]\n",
    "\n",
    "t.append(chg_x-chg_y)\n",
    "\n",
    "c=sum (df[\"Profit/Losses\"])\n",
    "maxc= max(t)\n",
    "minc= min(t)\n",
    "\n",
    "print(f\"Financial Analysis\\n----------------------------------\\n\")\n",
    "print(f\"Your profit is: ${tpl}\")\n",
    "print(f\"Total Months {T_month}\")\n",
    "print(f\"Average  Change: ${avgc}\")\n",
    "print(f\"Greatest Increase in Profits: (${maxc})\")\n",
    "print(f\"Greatest Decrease in Profits: (${minc})\")\n"
   ]
  },
  {
   "cell_type": "code",
   "execution_count": null,
   "id": "79818c17-5e95-4620-b677-8dcd907d45b4",
   "metadata": {},
   "outputs": [],
   "source": []
  }
 ],
 "metadata": {
  "kernelspec": {
   "display_name": "Python 3 (ipykernel)",
   "language": "python",
   "name": "python3"
  },
  "language_info": {
   "codemirror_mode": {
    "name": "ipython",
    "version": 3
   },
   "file_extension": ".py",
   "mimetype": "text/x-python",
   "name": "python",
   "nbconvert_exporter": "python",
   "pygments_lexer": "ipython3",
   "version": "3.9.7"
  }
 },
 "nbformat": 4,
 "nbformat_minor": 5
}
