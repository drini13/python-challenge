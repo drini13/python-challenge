{
 "cells": [
  {
   "cell_type": "code",
   "execution_count": 5,
   "id": "3fe24801-6f15-4b5e-a8a2-0bc1829d3635",
   "metadata": {},
   "outputs": [],
   "source": [
    "import os\n",
    "import pandas as pd"
   ]
  },
  {
   "cell_type": "code",
   "execution_count": 6,
   "id": "b31bc645-6a5c-4bfa-80a9-3e59f240d14e",
   "metadata": {},
   "outputs": [
    {
     "data": {
      "text/html": [
       "<div>\n",
       "<style scoped>\n",
       "    .dataframe tbody tr th:only-of-type {\n",
       "        vertical-align: middle;\n",
       "    }\n",
       "\n",
       "    .dataframe tbody tr th {\n",
       "        vertical-align: top;\n",
       "    }\n",
       "\n",
       "    .dataframe thead th {\n",
       "        text-align: right;\n",
       "    }\n",
       "</style>\n",
       "<table border=\"1\" class=\"dataframe\">\n",
       "  <thead>\n",
       "    <tr style=\"text-align: right;\">\n",
       "      <th></th>\n",
       "      <th>Date</th>\n",
       "      <th>Profit/Losses</th>\n",
       "    </tr>\n",
       "  </thead>\n",
       "  <tbody>\n",
       "    <tr>\n",
       "      <th>0</th>\n",
       "      <td>Jan-2010</td>\n",
       "      <td>867884</td>\n",
       "    </tr>\n",
       "    <tr>\n",
       "      <th>1</th>\n",
       "      <td>Feb-2010</td>\n",
       "      <td>984655</td>\n",
       "    </tr>\n",
       "    <tr>\n",
       "      <th>2</th>\n",
       "      <td>Mar-2010</td>\n",
       "      <td>322013</td>\n",
       "    </tr>\n",
       "    <tr>\n",
       "      <th>3</th>\n",
       "      <td>Apr-2010</td>\n",
       "      <td>-69417</td>\n",
       "    </tr>\n",
       "    <tr>\n",
       "      <th>4</th>\n",
       "      <td>May-2010</td>\n",
       "      <td>310503</td>\n",
       "    </tr>\n",
       "  </tbody>\n",
       "</table>\n",
       "</div>"
      ],
      "text/plain": [
       "       Date  Profit/Losses\n",
       "0  Jan-2010         867884\n",
       "1  Feb-2010         984655\n",
       "2  Mar-2010         322013\n",
       "3  Apr-2010         -69417\n",
       "4  May-2010         310503"
      ]
     },
     "execution_count": 6,
     "metadata": {},
     "output_type": "execute_result"
    }
   ],
   "source": [
    "df = pd.read_csv(\"Resources/budget_data.csv\")\n",
    "df.head()"
   ]
  },
  {
   "cell_type": "code",
   "execution_count": 8,
   "id": "f7711330-96b8-4ded-b0a0-06b0d2fadf64",
   "metadata": {},
   "outputs": [
    {
     "data": {
      "text/plain": [
       "86"
      ]
     },
     "execution_count": 8,
     "metadata": {},
     "output_type": "execute_result"
    }
   ],
   "source": [
    "T_month=len(df)\n",
    "T_month"
   ]
  },
  {
   "cell_type": "code",
   "execution_count": 129,
   "id": "206cd916-d2a6-4e19-9f2d-8345a6bdf242",
   "metadata": {},
   "outputs": [
    {
     "data": {
      "text/plain": [
       "38382578"
      ]
     },
     "execution_count": 129,
     "metadata": {},
     "output_type": "execute_result"
    }
   ],
   "source": [
    "tpl =df[\"Profit/Losses\"].sum()\n",
    "tpl"
   ]
  },
  {
   "cell_type": "code",
   "execution_count": 130,
   "id": "2500ba88-d43f-48b2-a90d-807341f49c5a",
   "metadata": {},
   "outputs": [],
   "source": [
    "pl = df[\"Profit/Losses\"].to_list()"
   ]
  },
  {
   "cell_type": "code",
   "execution_count": 131,
   "id": "0afa977c-c4a7-4f54-bcb5-9c1e2863d3d7",
   "metadata": {},
   "outputs": [],
   "source": [
    "monthchg = [0]"
   ]
  },
  {
   "cell_type": "code",
   "execution_count": 132,
   "id": "637fedb4-8d78-4943-8440-500d9c0c57f9",
   "metadata": {},
   "outputs": [],
   "source": [
    "for i in range (1, len(pl)):\n",
    "    chg = pl[i] - pl [i-1]\n",
    "    monthchg.append(chg)"
   ]
  },
  {
   "cell_type": "code",
   "execution_count": 133,
   "id": "fdeaa51c-17e3-4051-8f86-978ea83420c5",
   "metadata": {},
   "outputs": [],
   "source": [
    "df[\"Difference\"] = monthchg"
   ]
  },
  {
   "cell_type": "code",
   "execution_count": 136,
   "id": "c5c5f969-0bf3-4896-a905-4df25a52faad",
   "metadata": {},
   "outputs": [
    {
     "data": {
      "text/plain": [
       "-2288.1976744186045"
      ]
     },
     "execution_count": 136,
     "metadata": {},
     "output_type": "execute_result"
    }
   ],
   "source": [
    "avgc= df [\"Difference\"].sum()/86\n",
    "avgc"
   ]
  },
  {
   "cell_type": "code",
   "execution_count": 135,
   "id": "7d2fe19a-a3d5-4f2c-9bcd-2a0422d700d1",
   "metadata": {},
   "outputs": [
    {
     "data": {
      "text/plain": [
       "1926159"
      ]
     },
     "execution_count": 135,
     "metadata": {},
     "output_type": "execute_result"
    }
   ],
   "source": [
    "maxc = df[\"Difference\"].max()\n",
    "maxc"
   ]
  },
  {
   "cell_type": "code",
   "execution_count": 137,
   "id": "4de3dfc8-98f5-4a28-a94d-3e16835803b4",
   "metadata": {},
   "outputs": [
    {
     "data": {
      "text/plain": [
       "-2196167"
      ]
     },
     "execution_count": 137,
     "metadata": {},
     "output_type": "execute_result"
    }
   ],
   "source": [
    "minc= df [\"Difference\"].min()\n",
    "minc"
   ]
  },
  {
   "cell_type": "code",
   "execution_count": 140,
   "id": "b3751ed9-d014-4666-b856-2145dfde998e",
   "metadata": {},
   "outputs": [],
   "source": [
    "months = (f'T months:{\"Month\"}')\n"
   ]
  },
  {
   "cell_type": "code",
   "execution_count": 142,
   "id": "7f1f870c-13d2-4fdb-ac69-42f67d12bc18",
   "metadata": {},
   "outputs": [],
   "source": [
    "total = (f'total:{\"tpl:,2f\"}')"
   ]
  },
  {
   "cell_type": "code",
   "execution_count": 142,
   "id": "3fc02a3d-6451-4ed4-8c5e-383fddd1b852",
   "metadata": {},
   "outputs": [],
   "source": [
    "total = (f'total:{\"tpl:,2f\"}')"
   ]
  },
  {
   "cell_type": "code",
   "execution_count": 143,
   "id": "061aac58-5de8-434c-ad2d-b979cc50aeab",
   "metadata": {},
   "outputs": [],
   "source": [
    "average = (f' avg chg:{avgc:,.2f}')"
   ]
  },
  {
   "cell_type": "code",
   "execution_count": 146,
   "id": "416f3b87-0897-43f7-9db1-3879d9a7fbed",
   "metadata": {},
   "outputs": [],
   "source": [
    "increase = (f'G increase in prof: {maxc:,.2f}')"
   ]
  },
  {
   "cell_type": "code",
   "execution_count": 147,
   "id": "6d2cb0b7-2cd9-4c69-81e0-06d80bf79a21",
   "metadata": {},
   "outputs": [],
   "source": [
    "decrease = (f' G decrease in prof: {minc:,.2f}')"
   ]
  },
  {
   "cell_type": "code",
   "execution_count": null,
   "id": "59a072be-4237-466d-beec-f8ec454aafb3",
   "metadata": {},
   "outputs": [],
   "source": []
  },
  {
   "cell_type": "code",
   "execution_count": 2,
   "id": "3202569c-4c64-4e18-8662-dfcaf52b383b",
   "metadata": {},
   "outputs": [
    {
     "data": {
      "text/plain": [
       "{'Analysis', 'average', 'decrease', 'increase', 'months', 'total'}"
      ]
     },
     "execution_count": 2,
     "metadata": {},
     "output_type": "execute_result"
    }
   ],
   "source": [
    "#Analysis = ({\"Analysis\", \"months\", \"total\", \"average\", \"increase\", \"decrease\"})\n",
    "\n",
    "#Analysis"
   ]
  },
  {
   "cell_type": "code",
   "execution_count": null,
   "id": "79818c17-5e95-4620-b677-8dcd907d45b4",
   "metadata": {},
   "outputs": [],
   "source": []
  }
 ],
 "metadata": {
  "kernelspec": {
   "display_name": "Python 3 (ipykernel)",
   "language": "python",
   "name": "python3"
  },
  "language_info": {
   "codemirror_mode": {
    "name": "ipython",
    "version": 3
   },
   "file_extension": ".py",
   "mimetype": "text/x-python",
   "name": "python",
   "nbconvert_exporter": "python",
   "pygments_lexer": "ipython3",
   "version": "3.9.7"
  }
 },
 "nbformat": 4,
 "nbformat_minor": 5
}
