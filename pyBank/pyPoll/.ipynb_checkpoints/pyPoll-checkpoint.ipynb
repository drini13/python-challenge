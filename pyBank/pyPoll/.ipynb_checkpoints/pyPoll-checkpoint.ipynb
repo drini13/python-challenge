{
 "cells": [
  {
   "cell_type": "code",
   "execution_count": 2,
   "id": "59711f2b-d72f-4003-9e2c-8773b579d454",
   "metadata": {},
   "outputs": [],
   "source": [
    "import os"
   ]
  },
  {
   "cell_type": "code",
   "execution_count": 3,
   "id": "fe5c3a39-d67d-438b-a579-d7dfdd0405d1",
   "metadata": {},
   "outputs": [],
   "source": [
    "import pandas as pd"
   ]
  },
  {
   "cell_type": "code",
   "execution_count": 4,
   "id": "6092ef2f-5f1b-4db9-a4b4-4161a3133330",
   "metadata": {},
   "outputs": [
    {
     "data": {
      "text/html": [
       "<div>\n",
       "<style scoped>\n",
       "    .dataframe tbody tr th:only-of-type {\n",
       "        vertical-align: middle;\n",
       "    }\n",
       "\n",
       "    .dataframe tbody tr th {\n",
       "        vertical-align: top;\n",
       "    }\n",
       "\n",
       "    .dataframe thead th {\n",
       "        text-align: right;\n",
       "    }\n",
       "</style>\n",
       "<table border=\"1\" class=\"dataframe\">\n",
       "  <thead>\n",
       "    <tr style=\"text-align: right;\">\n",
       "      <th></th>\n",
       "      <th>Voter ID</th>\n",
       "      <th>County</th>\n",
       "      <th>Candidate</th>\n",
       "    </tr>\n",
       "  </thead>\n",
       "  <tbody>\n",
       "    <tr>\n",
       "      <th>0</th>\n",
       "      <td>12864552</td>\n",
       "      <td>Marsh</td>\n",
       "      <td>Khan</td>\n",
       "    </tr>\n",
       "    <tr>\n",
       "      <th>1</th>\n",
       "      <td>17444633</td>\n",
       "      <td>Marsh</td>\n",
       "      <td>Correy</td>\n",
       "    </tr>\n",
       "    <tr>\n",
       "      <th>2</th>\n",
       "      <td>19330107</td>\n",
       "      <td>Marsh</td>\n",
       "      <td>Khan</td>\n",
       "    </tr>\n",
       "    <tr>\n",
       "      <th>3</th>\n",
       "      <td>19865775</td>\n",
       "      <td>Queen</td>\n",
       "      <td>Khan</td>\n",
       "    </tr>\n",
       "    <tr>\n",
       "      <th>4</th>\n",
       "      <td>11927875</td>\n",
       "      <td>Marsh</td>\n",
       "      <td>Khan</td>\n",
       "    </tr>\n",
       "  </tbody>\n",
       "</table>\n",
       "</div>"
      ],
      "text/plain": [
       "   Voter ID County Candidate\n",
       "0  12864552  Marsh      Khan\n",
       "1  17444633  Marsh    Correy\n",
       "2  19330107  Marsh      Khan\n",
       "3  19865775  Queen      Khan\n",
       "4  11927875  Marsh      Khan"
      ]
     },
     "execution_count": 4,
     "metadata": {},
     "output_type": "execute_result"
    }
   ],
   "source": [
    "df = pd.read_csv(\"Resources/election_data.csv\")\n",
    "df.head()"
   ]
  },
  {
   "cell_type": "code",
   "execution_count": 5,
   "id": "e22c5c86-686d-42dd-994e-ea59edcce9eb",
   "metadata": {},
   "outputs": [
    {
     "data": {
      "text/plain": [
       "3521001"
      ]
     },
     "execution_count": 5,
     "metadata": {},
     "output_type": "execute_result"
    }
   ],
   "source": [
    "#total votes\n",
    "t_votes=len(df)\n",
    "t_votes"
   ]
  },
  {
   "cell_type": "code",
   "execution_count": 6,
   "id": "4f02d53c-496e-4437-9090-9179f6e702dc",
   "metadata": {},
   "outputs": [
    {
     "data": {
      "text/plain": [
       "Khan        2218231\n",
       "Correy       704200\n",
       "Li           492940\n",
       "O'Tooley     105630\n",
       "Name: Candidate, dtype: int64"
      ]
     },
     "execution_count": 6,
     "metadata": {},
     "output_type": "execute_result"
    }
   ],
   "source": [
    "#list of candidates voted\n",
    "cand=df['Candidate'].value_counts()\n",
    "cand"
   ]
  },
  {
   "cell_type": "code",
   "execution_count": 24,
   "id": "e028fdaf-6fa1-41e3-a3b1-9ae2c15eebcf",
   "metadata": {},
   "outputs": [
    {
     "data": {
      "text/plain": [
       "[Khan        2218231\n",
       " Correy       704200\n",
       " Li           492940\n",
       " O'Tooley     105630\n",
       " Name: Candidate, dtype: int64]"
      ]
     },
     "execution_count": 24,
     "metadata": {},
     "output_type": "execute_result"
    }
   ],
   "source": [
    "x=[cand]\n",
    "x"
   ]
  },
  {
   "cell_type": "code",
   "execution_count": 35,
   "id": "54dd7325-cb17-4e7d-ba07-d8f744b2cc76",
   "metadata": {},
   "outputs": [
    {
     "data": {
      "text/plain": [
       "63.00001050837531"
      ]
     },
     "execution_count": 35,
     "metadata": {},
     "output_type": "execute_result"
    }
   ],
   "source": [
    "k=(2218231/t_votes)*100\n",
    "vk=2218231\n",
    "k"
   ]
  },
  {
   "cell_type": "code",
   "execution_count": 49,
   "id": "b34b5d12-119e-4c12-8ff7-f17484653449",
   "metadata": {},
   "outputs": [
    {
     "data": {
      "text/plain": [
       "19.999994319797125"
      ]
     },
     "execution_count": 49,
     "metadata": {},
     "output_type": "execute_result"
    }
   ],
   "source": [
    "co=(704200/t_votes)*100\n",
    "cov=704200\n",
    "co"
   ]
  },
  {
   "cell_type": "code",
   "execution_count": 50,
   "id": "6891f485-8c75-4022-8818-73f569405656",
   "metadata": {},
   "outputs": [
    {
     "data": {
      "text/plain": [
       "13.999996023857989"
      ]
     },
     "execution_count": 50,
     "metadata": {},
     "output_type": "execute_result"
    }
   ],
   "source": [
    "li=(492940/t_votes)*100\n",
    "liv=492940\n",
    "li"
   ]
  },
  {
   "cell_type": "code",
   "execution_count": 51,
   "id": "47dbb913-15cb-4afc-b250-31c045b3c319",
   "metadata": {},
   "outputs": [
    {
     "data": {
      "text/plain": [
       "2.999999147969569"
      ]
     },
     "execution_count": 51,
     "metadata": {},
     "output_type": "execute_result"
    }
   ],
   "source": [
    "Ot=(105630/t_votes)*100\n",
    "Otv=105630\n",
    "Ot"
   ]
  },
  {
   "cell_type": "code",
   "execution_count": 55,
   "id": "2a531263-b2f1-45d1-b11f-6ea7fd4177f4",
   "metadata": {},
   "outputs": [
    {
     "name": "stdout",
     "output_type": "stream",
     "text": [
      "\n",
      "Election Results\n",
      "----------------------\n",
      "\n",
      "\n",
      "Total Votes: 3521001\n",
      "--------------------\n",
      "\n",
      "khan %63.00, votes(2218231)\n",
      "correy %20.00, votes(704200)\n",
      "li %14.00, votes(492940)\n",
      "O'tooley %3.00, votes(105630)\n",
      "\n",
      "Winner\n",
      "----------------------\n",
      "\n",
      "Khan\n"
     ]
    }
   ],
   "source": [
    "print(f\"\\nElection Results\\n----------------------\\n\")\n",
    "print(f\"\\nTotal Votes: {t_votes}\\n--------------------\\n\")\n",
    "print(f\"khan %{k:.2f}, votes({vk})\")\n",
    "print(f\"correy %{co:.2f}, votes({cov})\")\n",
    "print(f\"li %{li:.2f}, votes({liv})\")\n",
    "print(f\"O'tooley %{Ot:.2f}, votes({Otv})\")\n",
    "print(f\"\\nWinner\\n----------------------\\n\")\n",
    "print(f\"Khan\")"
   ]
  },
  {
   "cell_type": "code",
   "execution_count": null,
   "id": "2c41b7e3-25ae-4d41-ad0e-db52e13c2bdb",
   "metadata": {},
   "outputs": [],
   "source": []
  }
 ],
 "metadata": {
  "kernelspec": {
   "display_name": "Python 3 (ipykernel)",
   "language": "python",
   "name": "python3"
  },
  "language_info": {
   "codemirror_mode": {
    "name": "ipython",
    "version": 3
   },
   "file_extension": ".py",
   "mimetype": "text/x-python",
   "name": "python",
   "nbconvert_exporter": "python",
   "pygments_lexer": "ipython3",
   "version": "3.9.7"
  }
 },
 "nbformat": 4,
 "nbformat_minor": 5
}
